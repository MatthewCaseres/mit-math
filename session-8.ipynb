{
 "cells": [
  {
   "cell_type": "markdown",
   "metadata": {},
   "source": [
    "## Strong induction\n",
    "\n",
    "Strong induction is a type of induction. We still have a base case, but the inductive hypothesis is different. Instead of assuming that $S(n-1)$ is true, we assume that $S(m)$ is true for all $m < n$. So our conditions are:\n",
    "$$S(0) \\text{ and }$$\n",
    "$$\\forall m < n\\quad S(m) \\text{ is true} \\implies S(n) \\text{ is true.}$$\n",
    "\n",
    "These conditions are enough to prove that $S(n)$ is true for all $n \\in \\mathbb{N}$."
   ]
  },
  {
   "cell_type": "markdown",
   "metadata": {},
   "source": [
    "## Problem 3\n",
    "\n",
    "$$S(n) ::= n+12 \\text{ cents postage can be made from 3 and 7 cent stamps}$$\n",
    "\n",
    "$S(0)$ is true because 3 * 4 = 12 cents.\n",
    "\n",
    "Now we show that $\\forall m < n\\quad S(m) \\text{ is true} \\implies S(n) \\text{ is true.}$\n",
    "\n",
    "We break this into two cases. If $0 < n \\leq 2$ then the postage is 13 (7+3\\*2) or 14 (7\\*2) cents, so $S(n)$ is true and we do not need to make use of our inductive hypothesis.\n",
    "\n",
    "If n > 2 then $n-3\\geq 0$ and $S(n-3)$ is true by the inductive hypothesis. This means that\n",
    "\n",
    "$$\\exists m,n \\in \\mathbb{N} \\text{ such that } n-3 = m*3 + n*7 \\implies \\\\\n",
    "n = (m+1)*3 + n*7 \\implies \\\\ S(n)$$\n",
    "\n",
    "So now both our base case and our strong inductive hypothesis are true, so $S(n)$ is true for all $n \\in \\mathbb{N}$."
   ]
  },
  {
   "cell_type": "markdown",
   "metadata": {},
   "source": [
    "## Problem 4\n",
    "\n",
    "The inductive hypothesis is\n",
    "\n",
    "$$\\forall m < n\\quad S(m) \\text{ is true} \\implies S(n) \\text{ is true.}$$\n",
    "\n",
    "This inductive hypothesis must hold for all $n$ that are greater than our base case $n=1$. This proof fails for n=2.\n",
    "\n",
    "$$p|x_1x_2 \\implies p|y_1$$\n",
    "\n",
    "In the proof it says \"since $y_n$ is a product of the two\n",
    "terms $x_n$ and $x_{n+1}$, we have by strong induction that p divides one of them\". But for n=2 this is what we are trying to prove and it doesn't follow from the inductive hypothesis.\n",
    "\n",
    "It turns out that the case for n=2 is known as \"Euclid's lemma\" and it is not very easy to prove.\n",
    "\n",
    "$$p|ab \\implies p|a \\text{ or } p|b$$\n",
    "\n",
    "This relies on some number theory that we will see in later chapters. For now, we cannot prove the statement (which is fine because they just want us to see that the proof is bogus).\n",
    "\n"
   ]
  }
 ],
 "metadata": {
  "interpreter": {
   "hash": "d3a80558f24d2e5efaba6f2e9d8cbc8703e425f9a96448683ad76141449a77cb"
  },
  "kernelspec": {
   "display_name": "Python 3.10.0 64-bit ('3.10.0': pyenv)",
   "language": "python",
   "name": "python3"
  },
  "language_info": {
   "name": "python",
   "version": "3.10.0"
  },
  "orig_nbformat": 4
 },
 "nbformat": 4,
 "nbformat_minor": 2
}
